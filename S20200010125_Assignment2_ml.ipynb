{
 "cells": [
  {
   "cell_type": "code",
   "execution_count": 16,
   "id": "18d6415c",
   "metadata": {},
   "outputs": [],
   "source": [
    "import random"
   ]
  },
  {
   "cell_type": "code",
   "execution_count": null,
   "id": "19487c24",
   "metadata": {},
   "outputs": [
    {
     "ename": "ValueError",
     "evalue": "invalid literal for int() with base 10: 'Iris-setosa\\n'",
     "output_type": "error",
     "traceback": [
      "\u001b[1;31m---------------------------------------------------------------------------\u001b[0m",
      "\u001b[1;31mValueError\u001b[0m                                Traceback (most recent call last)",
      "\u001b[1;32mc:\\Users\\suman\\Downloads\\S20200010125_lab2\\S20200010125_Assignment2_ml.ipynb Cell 2\u001b[0m in \u001b[0;36m<cell line: 6>\u001b[1;34m()\u001b[0m\n\u001b[0;32m      <a href='vscode-notebook-cell:/c%3A/Users/suman/Downloads/S20200010125_lab2/S20200010125_Assignment2_ml.ipynb#W1sZmlsZQ%3D%3D?line=4'>5</a>\u001b[0m val \u001b[39m=\u001b[39m [line\u001b[39m.\u001b[39msplit(\u001b[39m'\u001b[39m\u001b[39m,\u001b[39m\u001b[39m'\u001b[39m) \u001b[39mfor\u001b[39;00m line \u001b[39min\u001b[39;00m file\u001b[39m.\u001b[39mreadlines()]\n\u001b[0;32m      <a href='vscode-notebook-cell:/c%3A/Users/suman/Downloads/S20200010125_lab2/S20200010125_Assignment2_ml.ipynb#W1sZmlsZQ%3D%3D?line=5'>6</a>\u001b[0m \u001b[39mfor\u001b[39;00m row \u001b[39min\u001b[39;00m val:\n\u001b[1;32m----> <a href='vscode-notebook-cell:/c%3A/Users/suman/Downloads/S20200010125_lab2/S20200010125_Assignment2_ml.ipynb#W1sZmlsZQ%3D%3D?line=6'>7</a>\u001b[0m     data_v\u001b[39m.\u001b[39mappend([\u001b[39mfloat\u001b[39m(row[\u001b[39m0\u001b[39m]), \u001b[39mfloat\u001b[39m(row[\u001b[39m1\u001b[39m]), \u001b[39mfloat\u001b[39m(row[\u001b[39m2\u001b[39m]), \u001b[39mfloat\u001b[39m(row[\u001b[39m3\u001b[39m]),\u001b[39mint\u001b[39;49m(row[\u001b[39m4\u001b[39;49m])])\n\u001b[0;32m      <a href='vscode-notebook-cell:/c%3A/Users/suman/Downloads/S20200010125_lab2/S20200010125_Assignment2_ml.ipynb#W1sZmlsZQ%3D%3D?line=8'>9</a>\u001b[0m file\u001b[39m.\u001b[39mclose()\n",
      "\u001b[1;31mValueError\u001b[0m: invalid literal for int() with base 10: 'Iris-setosa\\n'"
     ]
    }
   ],
   "source": [
    "data_v = []\n",
    "\n",
    "file = open('iris.csv') \n",
    "next(file)\n",
    "val = [line.split(',') for line in file.readlines()]\n",
    "for row in val:\n",
    "    data_v.append([float(row[0]), float(row[1]), float(row[2]), float(row[3]),int(row[4])])\n",
    "   \n",
    "file.close()\n"
   ]
  },
  {
   "cell_type": "code",
   "execution_count": null,
   "id": "d0827535",
   "metadata": {},
   "outputs": [
    {
     "ename": "IndexError",
     "evalue": "list index out of range",
     "output_type": "error",
     "traceback": [
      "\u001b[1;31m---------------------------------------------------------------------------\u001b[0m",
      "\u001b[1;31mIndexError\u001b[0m                                Traceback (most recent call last)",
      "\u001b[1;32mc:\\Users\\suman\\Downloads\\S20200010125_lab2\\S20200010125_Assignment2_ml.ipynb Cell 3\u001b[0m in \u001b[0;36m<cell line: 7>\u001b[1;34m()\u001b[0m\n\u001b[0;32m      <a href='vscode-notebook-cell:/c%3A/Users/suman/Downloads/S20200010125_lab2/S20200010125_Assignment2_ml.ipynb#W2sZmlsZQ%3D%3D?line=7'>8</a>\u001b[0m l_t_s \u001b[39m+\u001b[39m\u001b[39m=\u001b[39m \u001b[39m1\u001b[39m\n\u001b[0;32m     <a href='vscode-notebook-cell:/c%3A/Users/suman/Downloads/S20200010125_lab2/S20200010125_Assignment2_ml.ipynb#W2sZmlsZQ%3D%3D?line=9'>10</a>\u001b[0m \u001b[39mif\u001b[39;00m l_t_s \u001b[39m<\u001b[39m \u001b[39m121\u001b[39m:\n\u001b[0;32m     <a href='vscode-notebook-cell:/c%3A/Users/suman/Downloads/S20200010125_lab2/S20200010125_Assignment2_ml.ipynb#W2sZmlsZQ%3D%3D?line=10'>11</a>\u001b[0m     train\u001b[39m.\u001b[39mappend([data_v[i][\u001b[39m0\u001b[39m], data_v[i][\u001b[39m1\u001b[39m], data_v[i][\u001b[39m2\u001b[39m],\n\u001b[1;32m---> <a href='vscode-notebook-cell:/c%3A/Users/suman/Downloads/S20200010125_lab2/S20200010125_Assignment2_ml.ipynb#W2sZmlsZQ%3D%3D?line=11'>12</a>\u001b[0m                   data_v[i][\u001b[39m3\u001b[39m], data_v[i][\u001b[39m4\u001b[39;49m]])\n\u001b[0;32m     <a href='vscode-notebook-cell:/c%3A/Users/suman/Downloads/S20200010125_lab2/S20200010125_Assignment2_ml.ipynb#W2sZmlsZQ%3D%3D?line=12'>13</a>\u001b[0m \u001b[39melse\u001b[39;00m:\n\u001b[0;32m     <a href='vscode-notebook-cell:/c%3A/Users/suman/Downloads/S20200010125_lab2/S20200010125_Assignment2_ml.ipynb#W2sZmlsZQ%3D%3D?line=13'>14</a>\u001b[0m     test\u001b[39m.\u001b[39mappend([data_v[i][\u001b[39m0\u001b[39m], data_v[i][\u001b[39m1\u001b[39m], data_v[i][\u001b[39m2\u001b[39m],\n\u001b[0;32m     <a href='vscode-notebook-cell:/c%3A/Users/suman/Downloads/S20200010125_lab2/S20200010125_Assignment2_ml.ipynb#W2sZmlsZQ%3D%3D?line=14'>15</a>\u001b[0m                  data_v[i][\u001b[39m3\u001b[39m], data_v[i][\u001b[39m4\u001b[39m]])\n",
      "\u001b[1;31mIndexError\u001b[0m: list index out of range"
     ]
    }
   ],
   "source": [
    "train = []\n",
    "test = []\n",
    "\n",
    "random.shuffle(data_v)\n",
    "l_t_s = 0\n",
    "\n",
    "for i in range(len(data_v)):\n",
    "    l_t_s += 1\n",
    "\n",
    "    if l_t_s < 121:\n",
    "        train.append([data_v[i][0], data_v[i][1], data_v[i][2],\n",
    "                      data_v[i][3], data_v[i][4]])\n",
    "    else:\n",
    "        test.append([data_v[i][0], data_v[i][1], data_v[i][2],\n",
    "                     data_v[i][3], data_v[i][4]])"
   ]
  },
  {
   "cell_type": "code",
   "execution_count": null,
   "id": "1557fa07",
   "metadata": {},
   "outputs": [],
   "source": [
    "def e_dist(x1, x2):\n",
    "    f_res = 0\n",
    "    for i in range(4):\n",
    "        f_res += (x1[i] - x2[i])**2 \n",
    "    e_dis = f_res**(1/2)\n",
    "    return e_dis"
   ]
  },
  {
   "cell_type": "code",
   "execution_count": null,
   "id": "ef826891",
   "metadata": {},
   "outputs": [],
   "source": [
    "def data_classi(t_f_x, t_t_y, dat, k=1):\n",
    "    dist = [e_dist(dat, x) for x in t_f_x]\n",
    "    mal = dist\n",
    "    ind = []\n",
    "    for i in range(k):\n",
    "        m = 10000000\n",
    "        for j in range(len(mal)):\n",
    "            if m>mal[j]:\n",
    "                m = mal[j]\n",
    "                key = j\n",
    "        ind.append(key)\n",
    "        mal[key] = 10000000\n",
    "        \n",
    "    y_values = [t_t_y[indice] for indice in ind]\n",
    "    \n",
    "    c_1 = 0\n",
    "    c_2 = 0\n",
    "    c_3 = 0\n",
    "    \n",
    "    for i in range(len(y_values)):\n",
    "        if y_values[i] == 0:\n",
    "            c_1 += 1\n",
    "        if y_values[i] == 1:\n",
    "            c_2 += 1\n",
    "        if y_values[i] == 2:\n",
    "            c_3 += 1\n",
    "    \n",
    "    if c_1>c_2 and c_1 > c_3:\n",
    "        return 0\n",
    "    if c_2>c_1 and c_2 > c_3:\n",
    "        return 1\n",
    "    if c_3>c_2 and c_3 > c_2:\n",
    "        return 2\n",
    "        \n",
    "    "
   ]
  },
  {
   "cell_type": "code",
   "execution_count": null,
   "id": "32730db9",
   "metadata": {},
   "outputs": [],
   "source": [
    "def nnc(t_f_x, t_t_y,te_fe_x,n):\n",
    "    clss = []\n",
    "    for i in range(len(te_fe_x)):\n",
    "        clss.append(data_classi(t_f_x, t_t_y,te_fe_x[i], n))\n",
    "    return clss"
   ]
  },
  {
   "cell_type": "code",
   "execution_count": null,
   "id": "819f5ba8",
   "metadata": {},
   "outputs": [],
   "source": [
    "def a_f_nnc(t_f_x, t_t_y,x,y,k=1):\n",
    "    s_iter = 0\n",
    "    z = nnc(t_f_x, t_t_y,x,k)\n",
    "    for i in range(len(z)):\n",
    "        if z[i] == y[i]:\n",
    "            s_iter+=1\n",
    "    \n",
    "    return s_iter/len(z)"
   ]
  },
  {
   "cell_type": "code",
   "execution_count": null,
   "id": "4ef12b91",
   "metadata": {},
   "outputs": [],
   "source": [
    "def kfold(k,n, data_v):\n",
    "    l_tr_s = 0\n",
    "    accu = 0\n",
    "    mul=0\n",
    "    acrcy=[]\n",
    "    random.shuffle(data_v)\n",
    "    \n",
    "    for j in range(k):\n",
    "        \n",
    "        t_f_x = []\n",
    "        t_t_y = []\n",
    "        te_fe_x = []\n",
    "        te_t_y = []\n",
    "        for i in range(int(mul), int(mul+len(data_v)/k)):\n",
    "            te_fe_x.append([data_v[i][0], data_v[i][1], data_v[i][2], data_v[i][3]])\n",
    "            te_t_y.append(data_v[i][4]) \n",
    "        for i in range(0, int(mul)):\n",
    "            t_f_x.append([data_v[i][0], data_v[i][1], data_v[i][2], data_v[i][3]])\n",
    "            t_t_y.append(data_v[i][4])\n",
    "        for i in range(int(mul+len(data_v)/k), int(len(data_v))):\n",
    "            t_f_x.append([data_v[i][0], data_v[i][1], data_v[i][2], data_v[i][3]])\n",
    "            t_t_y.append(data_v[i][4])\n",
    "        \n",
    "        mul+=(len(data_v)/k)\n",
    "        value = a_f_nnc(t_f_x,t_t_y,te_fe_x, te_t_y,n)\n",
    "        accu+=value\n",
    "        acrcy.append(value)\n",
    "    mean=accu/k\n",
    "    std=0\n",
    "    for a in acrcy:\n",
    "        std+=(a-mean)**2\n",
    "    std/=k\n",
    "    std=std**(1/2)\n",
    "    \n",
    "    return mean, std"
   ]
  },
  {
   "cell_type": "code",
   "execution_count": null,
   "id": "a78e4823",
   "metadata": {},
   "outputs": [],
   "source": [
    "tr_fe_x = []\n",
    "tr_t_y = []\n",
    "te_fe_x = []\n",
    "te_t_y = []\n",
    "l_tr_s=0\n",
    "\n",
    "for i in range(len(data_v)):\n",
    "    l_tr_s += 1\n",
    "\n",
    "    if l_tr_s < 121:\n",
    "        tr_fe_x.append([data_v[i][0], data_v[i][1], data_v[i][2], data_v[i][3]])\n",
    "        tr_t_y.append(data_v[i][4])\n",
    "    else:\n",
    "        te_fe_x.append([data_v[i][0], data_v[i][1], data_v[i][2], data_v[i][3]])\n",
    "        te_t_y.append(data_v[i][4])\n"
   ]
  },
  {
   "cell_type": "code",
   "execution_count": null,
   "id": "14b417cb",
   "metadata": {},
   "outputs": [
    {
     "name": "stdout",
     "output_type": "stream",
     "text": [
      "0.9833333333333332\n",
      "0.016666666666666653\n"
     ]
    },
    {
     "data": {
      "text/plain": [
       "0.9666666666666667"
      ]
     },
     "execution_count": 88,
     "metadata": {},
     "output_type": "execute_result"
    }
   ],
   "source": [
    "acrcy = []\n",
    "for i in range(len(data_v)):\n",
    "    a,std = kfold(5,i, train)\n",
    "    acrcy.append(a)\n",
    "inx = acrcy.index(max(acrcy))\n",
    "print(acrcy[inx])\n",
    "acrcy, std = kfold(5, inx, train)\n",
    "print(std)\n",
    "a_f_nnc(tr_fe_x, tr_t_y,te_fe_x, te_t_y, inx)"
   ]
  }
 ],
 "metadata": {
  "kernelspec": {
   "display_name": "Python 3.9.5 64-bit",
   "language": "python",
   "name": "python3"
  },
  "language_info": {
   "codemirror_mode": {
    "name": "ipython",
    "version": 3
   },
   "file_extension": ".py",
   "mimetype": "text/x-python",
   "name": "python",
   "nbconvert_exporter": "python",
   "pygments_lexer": "ipython3",
   "version": "3.9.5"
  },
  "vscode": {
   "interpreter": {
    "hash": "3a9036ffe42bfd95d84ed3b7ea0c68cd68ea137ae5c80fad1c2cb64676621d2b"
   }
  }
 },
 "nbformat": 4,
 "nbformat_minor": 5
}
